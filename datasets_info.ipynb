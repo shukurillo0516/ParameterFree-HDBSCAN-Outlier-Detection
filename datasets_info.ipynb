{
 "cells": [
  {
   "cell_type": "code",
   "execution_count": null,
   "id": "41f20dbd",
   "metadata": {},
   "outputs": [],
   "source": [
    "import os\n",
    "import csv"
   ]
  },
  {
   "cell_type": "code",
   "execution_count": null,
   "id": "bea2301a",
   "metadata": {},
   "outputs": [],
   "source": [
    "def get_file_paths(folder_path: str) -> list[str]:\n",
    "    files_path = []\n",
    "\n",
    "    for entry in os.listdir(folder_path):\n",
    "        full_path = os.path.join(folder_path, entry)\n",
    "        if os.path.isdir(full_path):\n",
    "            files_path.extend(get_file_paths(full_path))\n",
    "        elif full_path.endswith(\".csv\") and not \"glosh_scores\" in full_path:\n",
    "            files_path.append(full_path)\n",
    "\n",
    "    return files_path\n"
   ]
  },
  {
   "cell_type": "code",
   "execution_count": 25,
   "id": "45babf34",
   "metadata": {},
   "outputs": [],
   "source": [
    "def get_datasets_info():\n",
    "    file_paths = get_file_paths(\"datasets\")\n",
    "    file_data = []\n",
    "\n",
    "    for file_path in file_paths:\n",
    "        name = file_path.split(\"/\")[-1]\n",
    "        path = \"/\".join(file_path.split(\"/\")[:-1])\n",
    "        with open(file_path, \"r\") as f:\n",
    "            rows = list(csv.reader(f))\n",
    "            points = len(rows) - 1\n",
    "            dimensions = len(rows[0]) - 1\n",
    "            file_data.append([path, name, points, dimensions])\n",
    "    with open(\"datasets/metadata.csv\", \"w\") as f:\n",
    "        writer = csv.writer(f)\n",
    "        writer.writerows(file_data)\n",
    "\n",
    "get_datasets_info()"
   ]
  },
  {
   "cell_type": "code",
   "execution_count": null,
   "id": "ba805183",
   "metadata": {},
   "outputs": [],
   "source": []
  }
 ],
 "metadata": {
  "kernelspec": {
   "display_name": "env",
   "language": "python",
   "name": "python3"
  },
  "language_info": {
   "codemirror_mode": {
    "name": "ipython",
    "version": 3
   },
   "file_extension": ".py",
   "mimetype": "text/x-python",
   "name": "python",
   "nbconvert_exporter": "python",
   "pygments_lexer": "ipython3",
   "version": "3.12.3"
  }
 },
 "nbformat": 4,
 "nbformat_minor": 5
}
